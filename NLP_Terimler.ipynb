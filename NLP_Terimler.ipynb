{
 "cells": [
  {
   "cell_type": "markdown",
   "metadata": {},
   "source": [
    "# NLTK Tokenizer"
   ]
  },
  {
   "cell_type": "markdown",
   "metadata": {},
   "source": [
    "Ön işleme (Pre-processing)\n",
    "\n",
    "Ön işleme, “herhangi bir Makine Öğrenmesi veya Derin Öğrenme görevinden önce” metin içerikli dokümanların hazırlanmasında en kritik adımıdır. Tokenlara ayırma, gereksiz sık kullanılan kelimelerin (stop-words) atılması ve kelime köklerini bulma(stemming) en yaygın kullanılan ön işleme yöntemlerindendir."
   ]
  },
  {
   "cell_type": "markdown",
   "metadata": {},
   "source": [
    "Bir metin dokümanını analiz etmek için, ilk olarak tokenlara ayırma işlemi yapılmalı ve kelime grupları elde edilmelidir. Tüm ortak ayırıcılar, işleçler, noktalama işaretleri ve yazdırılamayan karakterler kaldırılır. Daha sonra, en sık kullanılan kelimeleri filtrelemeyi amaçlayan stop-words filtreleme gerçekleştirilir. Örnekler: “ama, belki, acaba”. Son olarak, kelime hakkında dil-bilgisel veya sözcüksel bilgiler sunan son-eklerin çıkarılmasıyla morfolojik kökün elde edilmesini amaçlayan stemming ve / veya lemmatization uygulanır. "
   ]
  },
  {
   "cell_type": "code",
   "execution_count": 3,
   "metadata": {},
   "outputs": [],
   "source": [
    "from nltk.tokenize import sent_tokenize ,word_tokenize"
   ]
  },
  {
   "cell_type": "code",
   "execution_count": 4,
   "metadata": {},
   "outputs": [],
   "source": [
    "text=\"Turing testinin amacı, bir makinenin düşünebildiğini söyleyebilmenin mantıksal olarak mümkün olup olmadığıdır. Turing testine göre makine, gönüllü bir insanla birlikte, sorgulayıcının görüş alanının dışında bir yere saklanır. Sorgulayıcı yalnız soru sormak suretiyle hangisinin insan hangisinin bilgisayar olduğunu saptamaya çalışır. Sorgulayıcının soruları ve daha önemlisi aldığı yanıtlar, tamamen ses gizlenerek, yani ya bir klavye sisteminde yazılarak veya bir ekranda gösterilerek verilir. Sorgulayıcıya bu soru-cevap oturumunda elde edilen bilgiler dışında her iki taraf hakkında hiçbir bilgi verilmez. Dizi halinde tekrarlanan testler sonucunda sorgulayıcı, tutarlı bir şekilde insanı saptayamadığı takdirde makine Turing testini geçmiş sayılır.\""
   ]
  },
  {
   "cell_type": "code",
   "execution_count": 5,
   "metadata": {},
   "outputs": [
    {
     "data": {
      "text/plain": [
       "['Turing',\n",
       " 'testinin',\n",
       " 'amacı,',\n",
       " 'bir',\n",
       " 'makinenin',\n",
       " 'düşünebildiğini',\n",
       " 'söyleyebilmenin',\n",
       " 'mantıksal',\n",
       " 'olarak',\n",
       " 'mümkün',\n",
       " 'olup',\n",
       " 'olmadığıdır.',\n",
       " 'Turing',\n",
       " 'testine',\n",
       " 'göre',\n",
       " 'makine,',\n",
       " 'gönüllü',\n",
       " 'bir',\n",
       " 'insanla',\n",
       " 'birlikte,',\n",
       " 'sorgulayıcının',\n",
       " 'görüş',\n",
       " 'alanının',\n",
       " 'dışında',\n",
       " 'bir',\n",
       " 'yere',\n",
       " 'saklanır.',\n",
       " 'Sorgulayıcı',\n",
       " 'yalnız',\n",
       " 'soru',\n",
       " 'sormak',\n",
       " 'suretiyle',\n",
       " 'hangisinin',\n",
       " 'insan',\n",
       " 'hangisinin',\n",
       " 'bilgisayar',\n",
       " 'olduğunu',\n",
       " 'saptamaya',\n",
       " 'çalışır.',\n",
       " 'Sorgulayıcının',\n",
       " 'soruları',\n",
       " 've',\n",
       " 'daha',\n",
       " 'önemlisi',\n",
       " 'aldığı',\n",
       " 'yanıtlar,',\n",
       " 'tamamen',\n",
       " 'ses',\n",
       " 'gizlenerek,',\n",
       " 'yani',\n",
       " 'ya',\n",
       " 'bir',\n",
       " 'klavye',\n",
       " 'sisteminde',\n",
       " 'yazılarak',\n",
       " 'veya',\n",
       " 'bir',\n",
       " 'ekranda',\n",
       " 'gösterilerek',\n",
       " 'verilir.',\n",
       " 'Sorgulayıcıya',\n",
       " 'bu',\n",
       " 'soru-cevap',\n",
       " 'oturumunda',\n",
       " 'elde',\n",
       " 'edilen',\n",
       " 'bilgiler',\n",
       " 'dışında',\n",
       " 'her',\n",
       " 'iki',\n",
       " 'taraf',\n",
       " 'hakkında',\n",
       " 'hiçbir',\n",
       " 'bilgi',\n",
       " 'verilmez.',\n",
       " 'Dizi',\n",
       " 'halinde',\n",
       " 'tekrarlanan',\n",
       " 'testler',\n",
       " 'sonucunda',\n",
       " 'sorgulayıcı,',\n",
       " 'tutarlı',\n",
       " 'bir',\n",
       " 'şekilde',\n",
       " 'insanı',\n",
       " 'saptayamadığı',\n",
       " 'takdirde',\n",
       " 'makine',\n",
       " 'Turing',\n",
       " 'testini',\n",
       " 'geçmiş',\n",
       " 'sayılır.']"
      ]
     },
     "execution_count": 5,
     "metadata": {},
     "output_type": "execute_result"
    }
   ],
   "source": [
    "text.split()"
   ]
  },
  {
   "cell_type": "code",
   "execution_count": 6,
   "metadata": {},
   "outputs": [
    {
     "data": {
      "text/plain": [
       "['Turing',\n",
       " 'testinin',\n",
       " 'amacı',\n",
       " ',',\n",
       " 'bir',\n",
       " 'makinenin',\n",
       " 'düşünebildiğini',\n",
       " 'söyleyebilmenin',\n",
       " 'mantıksal',\n",
       " 'olarak',\n",
       " 'mümkün',\n",
       " 'olup',\n",
       " 'olmadığıdır',\n",
       " '.',\n",
       " 'Turing',\n",
       " 'testine',\n",
       " 'göre',\n",
       " 'makine',\n",
       " ',',\n",
       " 'gönüllü',\n",
       " 'bir',\n",
       " 'insanla',\n",
       " 'birlikte',\n",
       " ',',\n",
       " 'sorgulayıcının',\n",
       " 'görüş',\n",
       " 'alanının',\n",
       " 'dışında',\n",
       " 'bir',\n",
       " 'yere',\n",
       " 'saklanır',\n",
       " '.',\n",
       " 'Sorgulayıcı',\n",
       " 'yalnız',\n",
       " 'soru',\n",
       " 'sormak',\n",
       " 'suretiyle',\n",
       " 'hangisinin',\n",
       " 'insan',\n",
       " 'hangisinin',\n",
       " 'bilgisayar',\n",
       " 'olduğunu',\n",
       " 'saptamaya',\n",
       " 'çalışır',\n",
       " '.',\n",
       " 'Sorgulayıcının',\n",
       " 'soruları',\n",
       " 've',\n",
       " 'daha',\n",
       " 'önemlisi',\n",
       " 'aldığı',\n",
       " 'yanıtlar',\n",
       " ',',\n",
       " 'tamamen',\n",
       " 'ses',\n",
       " 'gizlenerek',\n",
       " ',',\n",
       " 'yani',\n",
       " 'ya',\n",
       " 'bir',\n",
       " 'klavye',\n",
       " 'sisteminde',\n",
       " 'yazılarak',\n",
       " 'veya',\n",
       " 'bir',\n",
       " 'ekranda',\n",
       " 'gösterilerek',\n",
       " 'verilir',\n",
       " '.',\n",
       " 'Sorgulayıcıya',\n",
       " 'bu',\n",
       " 'soru-cevap',\n",
       " 'oturumunda',\n",
       " 'elde',\n",
       " 'edilen',\n",
       " 'bilgiler',\n",
       " 'dışında',\n",
       " 'her',\n",
       " 'iki',\n",
       " 'taraf',\n",
       " 'hakkında',\n",
       " 'hiçbir',\n",
       " 'bilgi',\n",
       " 'verilmez',\n",
       " '.',\n",
       " 'Dizi',\n",
       " 'halinde',\n",
       " 'tekrarlanan',\n",
       " 'testler',\n",
       " 'sonucunda',\n",
       " 'sorgulayıcı',\n",
       " ',',\n",
       " 'tutarlı',\n",
       " 'bir',\n",
       " 'şekilde',\n",
       " 'insanı',\n",
       " 'saptayamadığı',\n",
       " 'takdirde',\n",
       " 'makine',\n",
       " 'Turing',\n",
       " 'testini',\n",
       " 'geçmiş',\n",
       " 'sayılır',\n",
       " '.']"
      ]
     },
     "execution_count": 6,
     "metadata": {},
     "output_type": "execute_result"
    }
   ],
   "source": [
    "word_tokenize(text)"
   ]
  },
  {
   "cell_type": "code",
   "execution_count": 7,
   "metadata": {},
   "outputs": [
    {
     "data": {
      "text/plain": [
       "['Turing testinin amacı, bir makinenin düşünebildiğini söyleyebilmenin mantıksal olarak mümkün olup olmadığıdır.',\n",
       " 'Turing testine göre makine, gönüllü bir insanla birlikte, sorgulayıcının görüş alanının dışında bir yere saklanır.',\n",
       " 'Sorgulayıcı yalnız soru sormak suretiyle hangisinin insan hangisinin bilgisayar olduğunu saptamaya çalışır.',\n",
       " 'Sorgulayıcının soruları ve daha önemlisi aldığı yanıtlar, tamamen ses gizlenerek, yani ya bir klavye sisteminde yazılarak veya bir ekranda gösterilerek verilir.',\n",
       " 'Sorgulayıcıya bu soru-cevap oturumunda elde edilen bilgiler dışında her iki taraf hakkında hiçbir bilgi verilmez.',\n",
       " 'Dizi halinde tekrarlanan testler sonucunda sorgulayıcı, tutarlı bir şekilde insanı saptayamadığı takdirde makine Turing testini geçmiş sayılır.']"
      ]
     },
     "execution_count": 7,
     "metadata": {},
     "output_type": "execute_result"
    }
   ],
   "source": [
    "sent_tokenize(text)"
   ]
  },
  {
   "cell_type": "code",
   "execution_count": 8,
   "metadata": {},
   "outputs": [
    {
     "name": "stdout",
     "output_type": "stream",
     "text": [
      "Turing\n",
      "testinin\n",
      "amacı\n",
      ",\n",
      "bir\n",
      "makinenin\n",
      "düşünebildiğini\n",
      "söyleyebilmenin\n",
      "mantıksal\n",
      "olarak\n",
      "mümkün\n",
      "olup\n",
      "olmadığıdır\n",
      ".\n",
      "Turing\n",
      "testine\n",
      "göre\n",
      "makine\n",
      ",\n",
      "gönüllü\n",
      "bir\n",
      "insanla\n",
      "birlikte\n",
      ",\n",
      "sorgulayıcının\n",
      "görüş\n",
      "alanının\n",
      "dışında\n",
      "bir\n",
      "yere\n",
      "saklanır\n",
      ".\n",
      "Sorgulayıcı\n",
      "yalnız\n",
      "soru\n",
      "sormak\n",
      "suretiyle\n",
      "hangisinin\n",
      "insan\n",
      "hangisinin\n",
      "bilgisayar\n",
      "olduğunu\n",
      "saptamaya\n",
      "çalışır\n",
      ".\n",
      "Sorgulayıcının\n",
      "soruları\n",
      "ve\n",
      "daha\n",
      "önemlisi\n",
      "aldığı\n",
      "yanıtlar\n",
      ",\n",
      "tamamen\n",
      "ses\n",
      "gizlenerek\n",
      ",\n",
      "yani\n",
      "ya\n",
      "bir\n",
      "klavye\n",
      "sisteminde\n",
      "yazılarak\n",
      "veya\n",
      "bir\n",
      "ekranda\n",
      "gösterilerek\n",
      "verilir\n",
      ".\n",
      "Sorgulayıcıya\n",
      "bu\n",
      "soru-cevap\n",
      "oturumunda\n",
      "elde\n",
      "edilen\n",
      "bilgiler\n",
      "dışında\n",
      "her\n",
      "iki\n",
      "taraf\n",
      "hakkında\n",
      "hiçbir\n",
      "bilgi\n",
      "verilmez\n",
      ".\n",
      "Dizi\n",
      "halinde\n",
      "tekrarlanan\n",
      "testler\n",
      "sonucunda\n",
      "sorgulayıcı\n",
      ",\n",
      "tutarlı\n",
      "bir\n",
      "şekilde\n",
      "insanı\n",
      "saptayamadığı\n",
      "takdirde\n",
      "makine\n",
      "Turing\n",
      "testini\n",
      "geçmiş\n",
      "sayılır\n",
      ".\n"
     ]
    }
   ],
   "source": [
    "for token in word_tokenize(text):\n",
    "    print(token)"
   ]
  },
  {
   "cell_type": "markdown",
   "metadata": {},
   "source": [
    "# Stop words "
   ]
  },
  {
   "cell_type": "code",
   "execution_count": 9,
   "metadata": {},
   "outputs": [],
   "source": [
    "from nltk.corpus import  stopwords\n",
    "from nltk.tokenize import word_tokenize"
   ]
  },
  {
   "cell_type": "code",
   "execution_count": 10,
   "metadata": {},
   "outputs": [],
   "source": [
    "text=\"Alan Mathison Turing 23 June June  was an English mathematician, computer scientist, logician, cryptanalyst, philosopher and theoretical biologist. Turing was highly influential in the development of theoretical computer science, providing a formalisation of the concepts of algorithm and computation with the Turing machine, which can be considered a model of a general-purpose computer. Turing is widely considered to be the father of theoretical computer science and artificial intelligence.[11] Despite these accomplishments, he was not fully recognised in his home country during his lifetime, due to his homosexuality, and because much of his work was covered by the Official Secrets Act.\""
   ]
  },
  {
   "cell_type": "code",
   "execution_count": 12,
   "metadata": {},
   "outputs": [
    {
     "data": {
      "text/plain": [
       "['acaba',\n",
       " 'ama',\n",
       " 'aslında',\n",
       " 'az',\n",
       " 'bazı',\n",
       " 'belki',\n",
       " 'biri',\n",
       " 'birkaç',\n",
       " 'birşey',\n",
       " 'biz',\n",
       " 'bu',\n",
       " 'çok',\n",
       " 'çünkü',\n",
       " 'da',\n",
       " 'daha',\n",
       " 'de',\n",
       " 'defa',\n",
       " 'diye',\n",
       " 'eğer',\n",
       " 'en',\n",
       " 'gibi',\n",
       " 'hem',\n",
       " 'hep',\n",
       " 'hepsi',\n",
       " 'her',\n",
       " 'hiç',\n",
       " 'için',\n",
       " 'ile',\n",
       " 'ise',\n",
       " 'kez',\n",
       " 'ki',\n",
       " 'kim',\n",
       " 'mı',\n",
       " 'mu',\n",
       " 'mü',\n",
       " 'nasıl',\n",
       " 'ne',\n",
       " 'neden',\n",
       " 'nerde',\n",
       " 'nerede',\n",
       " 'nereye',\n",
       " 'niçin',\n",
       " 'niye',\n",
       " 'o',\n",
       " 'sanki',\n",
       " 'şey',\n",
       " 'siz',\n",
       " 'şu',\n",
       " 'tüm',\n",
       " 've',\n",
       " 'veya',\n",
       " 'ya',\n",
       " 'yani']"
      ]
     },
     "execution_count": 12,
     "metadata": {},
     "output_type": "execute_result"
    }
   ],
   "source": [
    "stopwords.words('turkish')"
   ]
  },
  {
   "cell_type": "code",
   "execution_count": 14,
   "metadata": {},
   "outputs": [],
   "source": [
    "stopwords=stopwords.words('english')"
   ]
  },
  {
   "cell_type": "code",
   "execution_count": 15,
   "metadata": {},
   "outputs": [],
   "source": [
    "words=word_tokenize(text)"
   ]
  },
  {
   "cell_type": "code",
   "execution_count": 16,
   "metadata": {},
   "outputs": [],
   "source": [
    "filtered_words= []\n",
    "for word in words:\n",
    "    if word not in stopwords:\n",
    "        filtered_words.append(word)"
   ]
  },
  {
   "cell_type": "code",
   "execution_count": 17,
   "metadata": {},
   "outputs": [
    {
     "data": {
      "text/plain": [
       "['Alan',\n",
       " 'Mathison',\n",
       " 'Turing',\n",
       " '23',\n",
       " 'June',\n",
       " 'June',\n",
       " 'English',\n",
       " 'mathematician',\n",
       " ',',\n",
       " 'computer',\n",
       " 'scientist',\n",
       " ',',\n",
       " 'logician',\n",
       " ',',\n",
       " 'cryptanalyst',\n",
       " ',',\n",
       " 'philosopher',\n",
       " 'theoretical',\n",
       " 'biologist',\n",
       " '.',\n",
       " 'Turing',\n",
       " 'highly',\n",
       " 'influential',\n",
       " 'development',\n",
       " 'theoretical',\n",
       " 'computer',\n",
       " 'science',\n",
       " ',',\n",
       " 'providing',\n",
       " 'formalisation',\n",
       " 'concepts',\n",
       " 'algorithm',\n",
       " 'computation',\n",
       " 'Turing',\n",
       " 'machine',\n",
       " ',',\n",
       " 'considered',\n",
       " 'model',\n",
       " 'general-purpose',\n",
       " 'computer',\n",
       " '.',\n",
       " 'Turing',\n",
       " 'widely',\n",
       " 'considered',\n",
       " 'father',\n",
       " 'theoretical',\n",
       " 'computer',\n",
       " 'science',\n",
       " 'artificial',\n",
       " 'intelligence',\n",
       " '.',\n",
       " '[',\n",
       " '11',\n",
       " ']',\n",
       " 'Despite',\n",
       " 'accomplishments',\n",
       " ',',\n",
       " 'fully',\n",
       " 'recognised',\n",
       " 'home',\n",
       " 'country',\n",
       " 'lifetime',\n",
       " ',',\n",
       " 'due',\n",
       " 'homosexuality',\n",
       " ',',\n",
       " 'much',\n",
       " 'work',\n",
       " 'covered',\n",
       " 'Official',\n",
       " 'Secrets',\n",
       " 'Act',\n",
       " '.']"
      ]
     },
     "execution_count": 17,
     "metadata": {},
     "output_type": "execute_result"
    }
   ],
   "source": [
    "filtered_words"
   ]
  },
  {
   "cell_type": "markdown",
   "metadata": {},
   "source": [
    "# Stemming "
   ]
  },
  {
   "cell_type": "markdown",
   "metadata": {},
   "source": [
    "Stemmer Stemmer algoritmaları kelimelerdeki morfolojik ekleri atarak kelime kökünü  bulmaya çalışır.Günümüzde en yaygın kullanılan 3 stemmer algoritması: Lancaster, Porter, Snowball."
   ]
  },
  {
   "cell_type": "code",
   "execution_count": 19,
   "metadata": {},
   "outputs": [],
   "source": [
    "from nltk.stem import PorterStemmer"
   ]
  },
  {
   "cell_type": "code",
   "execution_count": 20,
   "metadata": {},
   "outputs": [],
   "source": [
    "ps = PorterStemmer()"
   ]
  },
  {
   "cell_type": "code",
   "execution_count": 21,
   "metadata": {},
   "outputs": [],
   "source": [
    "words = ['drive','driving', 'driver', 'drives', 'drove', 'cats', 'children']"
   ]
  },
  {
   "cell_type": "code",
   "execution_count": 22,
   "metadata": {},
   "outputs": [
    {
     "name": "stdout",
     "output_type": "stream",
     "text": [
      "drive\n",
      "drive\n",
      "driver\n",
      "drive\n",
      "drove\n",
      "cat\n",
      "children\n"
     ]
    }
   ],
   "source": [
    "for  w in words:\n",
    "    print(ps.stem(w))"
   ]
  },
  {
   "cell_type": "markdown",
   "metadata": {},
   "source": [
    "# Part of Speech Tagging (Cümlenin öğeleri)  "
   ]
  },
  {
   "cell_type": "code",
   "execution_count": null,
   "metadata": {},
   "outputs": [],
   "source": [
    "import  nltk "
   ]
  },
  {
   "cell_type": "code",
   "execution_count": 25,
   "metadata": {},
   "outputs": [],
   "source": [
    "text=\"Alan Mathison Turing 23 June June  was an English mathematician, computer scientist, logician, cryptanalyst, philosopher and theoretical biologist. Turing was highly influential in the development of theoretical computer science, providing a formalisation of the concepts of algorithm and computation with the Turing machine, which can be considered a model of a general-purpose computer. Turing is widely considered to be the father of theoretical computer science and artificial intelligence.[11] Despite these accomplishments, he was not fully recognised in his home country during his lifetime, due to his homosexuality, and because much of his work was covered by the Official Secrets Act.\""
   ]
  },
  {
   "cell_type": "code",
   "execution_count": 26,
   "metadata": {},
   "outputs": [],
   "source": [
    "tokenized = nltk.word_tokenize(text)"
   ]
  },
  {
   "cell_type": "code",
   "execution_count": 27,
   "metadata": {},
   "outputs": [
    {
     "data": {
      "text/plain": [
       "[('Alan', 'NNP'),\n",
       " ('Mathison', 'NNP'),\n",
       " ('Turing', 'VBG'),\n",
       " ('23', 'CD'),\n",
       " ('June', 'NNP'),\n",
       " ('June', 'NNP'),\n",
       " ('was', 'VBD'),\n",
       " ('an', 'DT'),\n",
       " ('English', 'JJ'),\n",
       " ('mathematician', 'NN'),\n",
       " (',', ','),\n",
       " ('computer', 'NN'),\n",
       " ('scientist', 'NN'),\n",
       " (',', ','),\n",
       " ('logician', 'JJ'),\n",
       " (',', ','),\n",
       " ('cryptanalyst', 'NN'),\n",
       " (',', ','),\n",
       " ('philosopher', 'NN'),\n",
       " ('and', 'CC'),\n",
       " ('theoretical', 'JJ'),\n",
       " ('biologist', 'NN'),\n",
       " ('.', '.'),\n",
       " ('Turing', 'NNP'),\n",
       " ('was', 'VBD'),\n",
       " ('highly', 'RB'),\n",
       " ('influential', 'JJ'),\n",
       " ('in', 'IN'),\n",
       " ('the', 'DT'),\n",
       " ('development', 'NN'),\n",
       " ('of', 'IN'),\n",
       " ('theoretical', 'JJ'),\n",
       " ('computer', 'NN'),\n",
       " ('science', 'NN'),\n",
       " (',', ','),\n",
       " ('providing', 'VBG'),\n",
       " ('a', 'DT'),\n",
       " ('formalisation', 'NN'),\n",
       " ('of', 'IN'),\n",
       " ('the', 'DT'),\n",
       " ('concepts', 'NNS'),\n",
       " ('of', 'IN'),\n",
       " ('algorithm', 'NN'),\n",
       " ('and', 'CC'),\n",
       " ('computation', 'NN'),\n",
       " ('with', 'IN'),\n",
       " ('the', 'DT'),\n",
       " ('Turing', 'NNP'),\n",
       " ('machine', 'NN'),\n",
       " (',', ','),\n",
       " ('which', 'WDT'),\n",
       " ('can', 'MD'),\n",
       " ('be', 'VB'),\n",
       " ('considered', 'VBN'),\n",
       " ('a', 'DT'),\n",
       " ('model', 'NN'),\n",
       " ('of', 'IN'),\n",
       " ('a', 'DT'),\n",
       " ('general-purpose', 'JJ'),\n",
       " ('computer', 'NN'),\n",
       " ('.', '.'),\n",
       " ('Turing', 'NNP'),\n",
       " ('is', 'VBZ'),\n",
       " ('widely', 'RB'),\n",
       " ('considered', 'VBN'),\n",
       " ('to', 'TO'),\n",
       " ('be', 'VB'),\n",
       " ('the', 'DT'),\n",
       " ('father', 'NN'),\n",
       " ('of', 'IN'),\n",
       " ('theoretical', 'JJ'),\n",
       " ('computer', 'NN'),\n",
       " ('science', 'NN'),\n",
       " ('and', 'CC'),\n",
       " ('artificial', 'JJ'),\n",
       " ('intelligence', 'NN'),\n",
       " ('.', '.'),\n",
       " ('[', 'CC'),\n",
       " ('11', 'CD'),\n",
       " (']', 'JJ'),\n",
       " ('Despite', 'IN'),\n",
       " ('these', 'DT'),\n",
       " ('accomplishments', 'NNS'),\n",
       " (',', ','),\n",
       " ('he', 'PRP'),\n",
       " ('was', 'VBD'),\n",
       " ('not', 'RB'),\n",
       " ('fully', 'RB'),\n",
       " ('recognised', 'VBN'),\n",
       " ('in', 'IN'),\n",
       " ('his', 'PRP$'),\n",
       " ('home', 'NN'),\n",
       " ('country', 'NN'),\n",
       " ('during', 'IN'),\n",
       " ('his', 'PRP$'),\n",
       " ('lifetime', 'NN'),\n",
       " (',', ','),\n",
       " ('due', 'JJ'),\n",
       " ('to', 'TO'),\n",
       " ('his', 'PRP$'),\n",
       " ('homosexuality', 'NN'),\n",
       " (',', ','),\n",
       " ('and', 'CC'),\n",
       " ('because', 'RB'),\n",
       " ('much', 'JJ'),\n",
       " ('of', 'IN'),\n",
       " ('his', 'PRP$'),\n",
       " ('work', 'NN'),\n",
       " ('was', 'VBD'),\n",
       " ('covered', 'VBN'),\n",
       " ('by', 'IN'),\n",
       " ('the', 'DT'),\n",
       " ('Official', 'NNP'),\n",
       " ('Secrets', 'NNP'),\n",
       " ('Act', 'NNP'),\n",
       " ('.', '.')]"
      ]
     },
     "execution_count": 27,
     "metadata": {},
     "output_type": "execute_result"
    }
   ],
   "source": [
    "nltk.pos_tag(tokenized)"
   ]
  },
  {
   "cell_type": "markdown",
   "metadata": {},
   "source": [
    "# Named  Entity Recognition"
   ]
  },
  {
   "cell_type": "markdown",
   "metadata": {},
   "source": [
    "yer isimleri organizasyon isimleri bulmaya yarar"
   ]
  },
  {
   "cell_type": "code",
   "execution_count": 29,
   "metadata": {},
   "outputs": [],
   "source": [
    "text=\"Alan Mathison Turing 23 June June  was an English mathematician, computer scientist, logician, cryptanalyst, philosopher and theoretical biologist. Turing was highly influential in the development of theoretical computer science, providing a formalisation of the concepts of algorithm and computation with the Turing machine, which can be considered a model of a general-purpose computer. Turing is widely considered to be the father of theoretical computer science and artificial intelligence.[11] Despite these accomplishments, he was not fully recognised in his home country during his lifetime, due to his homosexuality, and because much of his work was covered by the Official Secrets Act.\""
   ]
  },
  {
   "cell_type": "code",
   "execution_count": 30,
   "metadata": {},
   "outputs": [],
   "source": [
    "tokenized = nltk.word_tokenize(text)"
   ]
  },
  {
   "cell_type": "code",
   "execution_count": 31,
   "metadata": {},
   "outputs": [],
   "source": [
    "tagged = nltk.pos_tag(tokenized)"
   ]
  },
  {
   "cell_type": "code",
   "execution_count": 35,
   "metadata": {},
   "outputs": [],
   "source": [
    "named_ent = nltk.ne_chunk(tagged)"
   ]
  },
  {
   "cell_type": "code",
   "execution_count": 38,
   "metadata": {},
   "outputs": [],
   "source": [
    "named_ent.draw()"
   ]
  },
  {
   "cell_type": "markdown",
   "metadata": {},
   "source": [
    "# Lemmatizing"
   ]
  },
  {
   "cell_type": "markdown",
   "metadata": {},
   "source": [
    "Lemmatizer Stemming metodunda kelime bağlamdan bağımsız olarak düşünülür ve kelime sonundaki ekler atılır. Hızlıdır ama doğruluk oranı da düşüktür.Kelimelerin sözlükteki anlamını hesaba katan Lemmatizer metodu kullanılır. Bulmak istediğimiz kökü verb (fiil), adverb (zarf), noun (isim), adjective (sıfat) olarak seçebiliyoruz."
   ]
  },
  {
   "cell_type": "code",
   "execution_count": 39,
   "metadata": {},
   "outputs": [],
   "source": [
    "from nltk.stem import WordNetLemmatizer"
   ]
  },
  {
   "cell_type": "code",
   "execution_count": 40,
   "metadata": {},
   "outputs": [],
   "source": [
    "lem = WordNetLemmatizer()"
   ]
  },
  {
   "cell_type": "code",
   "execution_count": 41,
   "metadata": {},
   "outputs": [],
   "source": [
    "words = ['drive','driving', 'driver', 'drives', 'drove', 'cats', 'children']"
   ]
  },
  {
   "cell_type": "code",
   "execution_count": 42,
   "metadata": {},
   "outputs": [
    {
     "name": "stdout",
     "output_type": "stream",
     "text": [
      "drive\n",
      "driving\n",
      "driver\n",
      "drive\n",
      "drove\n",
      "cat\n",
      "child\n"
     ]
    }
   ],
   "source": [
    "for w in words:\n",
    "    print(lem.lemmatize(w))"
   ]
  },
  {
   "cell_type": "code",
   "execution_count": null,
   "metadata": {},
   "outputs": [],
   "source": []
  }
 ],
 "metadata": {
  "kernelspec": {
   "display_name": "Python 3",
   "language": "python",
   "name": "python3"
  },
  "language_info": {
   "codemirror_mode": {
    "name": "ipython",
    "version": 3
   },
   "file_extension": ".py",
   "mimetype": "text/x-python",
   "name": "python",
   "nbconvert_exporter": "python",
   "pygments_lexer": "ipython3",
   "version": "3.6.8"
  }
 },
 "nbformat": 4,
 "nbformat_minor": 2
}
