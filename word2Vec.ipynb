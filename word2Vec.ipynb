{
 "cells": [
  {
   "cell_type": "markdown",
   "metadata": {},
   "source": [
    "# word2Vec"
   ]
  },
  {
   "cell_type": "markdown",
   "metadata": {},
   "source": [
    "Word2Vec , kelimeleri vektör uzayında ifade etmeye çalışan unsupervised (no labels) ve tahmin temelli(prediction-based) bir modeldir . Google araştırmacı Tomas Mikolov ve ekibi tarafından 2013 yılında icat edilmiştir. 2 çeşit alt yöntemi vardır: CBOW(Continous Bag of Words) ve Skip-Gram . 2 yöntem de genel olarak birbirine benzemektedir."
   ]
  },
  {
   "cell_type": "markdown",
   "metadata": {},
   "source": [
    "Continuous Bag of Words: CBOW modelinde pencere boyutu merkezinde olmayan kelimeler girdi olarak alınıp, merkezinde olan kelimeler çıktı olarak tahmin edilmeye çalışılmaktadır"
   ]
  },
  {
   "cell_type": "markdown",
   "metadata": {},
   "source": [
    "Skip Gram: Skip Gram modelinde pencere boyutu merkezinde olan kelimeler girdi olarak alınıp, merkezinde olmayan kelimeler çıktı olarak tahmin edilmeye çalışılmaktadır"
   ]
  },
  {
   "cell_type": "markdown",
   "metadata": {},
   "source": [
    "# Skip Gram"
   ]
  },
  {
   "cell_type": "code",
   "execution_count": 1,
   "metadata": {},
   "outputs": [],
   "source": [
    "import numpy as np\n",
    "from gensim.models import Word2Vec\n",
    "from sklearn.manifold import TSNE\n",
    "import matplotlib.pyplot as plt"
   ]
  },
  {
   "cell_type": "code",
   "execution_count": 2,
   "metadata": {},
   "outputs": [],
   "source": [
    "file = open('hurriyet.txt', 'r' , encoding='utf8')\n",
    "data = file.read()\n",
    "list_ = data.split('\\n')\n",
    "\n",
    "corpus = []\n",
    "\n",
    "for sentence in list_:\n",
    "    corpus.append(sentence.split())"
   ]
  },
  {
   "cell_type": "code",
   "execution_count": 3,
   "metadata": {
    "scrolled": true
   },
   "outputs": [
    {
     "name": "stdout",
     "output_type": "stream",
     "text": [
      "[['iran', 'devlet', 'televizyonu', 'ülkedeki', 'eyaletin', 'sinde', 'yapılan', 'reformcuları', 'protesto', 'amaçlı', 'yürüyüşlere', 'milyonlarca', 'kişinin', 'katıldığını', 'bildirdi'], ['gösterilerde', 'fitnecilere', 'ölüm', 'münafıklara', 'ölüm', 'abd', 'ye', 'ölüm', 'ingiltere', 'ye', 'ölüm', 'sloganları', 'atıldı'], ['dini', 'lider', 'ali', 'hamaney', 've', 'cumhurbaşkanı', 'mahmud', 'ahmedinejad', 'ı', 'destekleyen', 'iranlılar', 'son', 'olaylarda', 'yeğeni', 'öldürülen', 'mir', 'hüseyin', 'musevi', 'başta', 'olmak', 'üzere', 'muhalefet', 'liderlerini', 'kınadılar'], ['musevi', 'ye', 'ölüm', 've', 'idam', 'idam', 'sloganları', 'duyuldu'], ['muhalefet', 'liderleri', 'kaçtı', 'mı', 'aşure', 'günü', 'yaşanan', 'çatışmalarda', 'devlet', 'kaynaklarına', 'göre', 'u', 'terörist', 'olmak', 'üzere', 'kişi', 'ölmüştü'], ['den', 'fazla', 'kişinin', 'yaralandığı', 'olaylar', 'sırasında', 'en', 'az', 'kişi', 'tutuklanmıştı'], ['öte', 'yandan', 'iran', 'haber', 'ajansı', 'irna', 'muhalif', 'liderler', 'mir', 'hüseyin', 'musevi', 've', 'mehdi', 'kerrubi', 'nin', 'başkentten', 'kaçarak', 'ülkenin', 'kuzeyine', 'geçtiğini', 'ileri', 'sürdü', 'ancak', 'muhalefet', 'iddiayı', 'yalanladı'], ['hamaney', 'in', 'bir', 'dönem', 'korumalığını', 'yapan', 've', 'şu', 'anda', 'fransa', 'da', 'saklandığı', 'söylenen', 'bir', 'kişinin', 'muhalefete', 'verdiği', 'bilgilere', 'göre', 'münzevi', 'yaşamı', 'na', 'rağmen', 'dini', 'liderin', 'havyara', 'karşı', 'korkunç', 'bir', 'iştahı', 'var'], ['baston', 've', 'at', 'meraklısı', 'hamaney', 'aynı', 'zamanda', 'değerli', 'mücevherlerle', 'bezenmiş', 'bastonların', 've', 'cins', 'atların', 'koleksiyonunu', 'yapıyor'], ['hamaney', 'in', 'antika', 'bastonlarının', 'sayısı']]\n"
     ]
    }
   ],
   "source": [
    "print(corpus[:10])"
   ]
  },
  {
   "cell_type": "code",
   "execution_count": 4,
   "metadata": {},
   "outputs": [],
   "source": [
    "#sg =1 skipgram algoritmasının çalışması için default olarak cbow alır. min_count  en az  5 defa geçen kelimeleri almak için"
   ]
  },
  {
   "cell_type": "code",
   "execution_count": 5,
   "metadata": {},
   "outputs": [],
   "source": [
    "model = Word2Vec(corpus, size=100, window=5, min_count=5, sg=1)"
   ]
  },
  {
   "cell_type": "code",
   "execution_count": 6,
   "metadata": {
    "scrolled": true
   },
   "outputs": [
    {
     "data": {
      "text/plain": [
       "array([-0.47955158, -0.0020109 , -0.075167  , -0.13608944, -0.55839103,\n",
       "       -0.1291428 ,  0.29745987,  0.28031284, -0.24234799,  0.33060598,\n",
       "        0.04465067,  0.23747404, -0.48819917, -0.35488522,  0.68294495,\n",
       "        0.22057061,  0.05238726, -0.22093698, -0.0099335 , -0.04022785,\n",
       "        0.61938673, -0.00252277, -0.15311675, -0.34825897,  0.42123672,\n",
       "       -0.49454397,  0.11414558, -0.48597386,  0.27908123, -0.39362964,\n",
       "       -0.00458888,  0.0736341 ,  0.01181382, -0.46570298,  0.00908899,\n",
       "        0.09562039,  0.12337689,  0.38426846, -0.09019867, -0.3776018 ,\n",
       "       -0.07422379,  0.07586115, -0.07554071, -0.04101518,  0.11841262,\n",
       "        0.30435658,  0.12107558, -0.19852166, -0.8008632 ,  0.17684557,\n",
       "       -0.16969344, -0.15583521, -0.01479655,  0.49552333,  0.569491  ,\n",
       "        0.16417636, -0.61499715, -0.12259685,  0.5390397 ,  0.9482929 ,\n",
       "       -0.20524208,  0.10729244, -0.18493626,  0.22568831, -0.34804067,\n",
       "       -0.47171956, -0.71485615, -0.24352354, -0.00803376,  0.7757929 ,\n",
       "       -0.2834523 , -1.3664436 , -0.3416723 , -0.00342047, -0.12795925,\n",
       "       -0.37829536, -0.6189512 , -0.07878193,  0.21590263,  0.20209165,\n",
       "        0.26420632, -0.82665235, -0.08173065, -0.11573669, -0.3578495 ,\n",
       "       -0.19829056,  0.17710848, -0.46412846,  0.8856572 , -0.7460296 ,\n",
       "       -0.10516549,  0.2311161 ,  0.7938069 ,  0.6042064 ,  0.14186314,\n",
       "       -0.34811458,  0.22534065, -0.01892216,  0.40732706, -0.3173706 ],\n",
       "      dtype=float32)"
      ]
     },
     "execution_count": 6,
     "metadata": {},
     "output_type": "execute_result"
    }
   ],
   "source": [
    "#yazılan kelimenin vektorunu getirir.\n",
    "model.wv['devlet']\n"
   ]
  },
  {
   "cell_type": "code",
   "execution_count": 7,
   "metadata": {},
   "outputs": [
    {
     "data": {
      "text/plain": [
       "[('washington', 0.744182825088501),\n",
       " ('istanbul', 0.7163099050521851),\n",
       " ('paçacı', 0.7009236216545105),\n",
       " ('karlov', 0.6874129772186279),\n",
       " ('adana', 0.6844323873519897),\n",
       " ('büyükelçimiz', 0.675287663936615),\n",
       " ('namık', 0.6740584969520569),\n",
       " ('bass', 0.6729660034179688),\n",
       " ('moskova', 0.6724060773849487),\n",
       " ('dışişlerine', 0.670595645904541)]"
      ]
     },
     "execution_count": 7,
     "metadata": {},
     "output_type": "execute_result"
    }
   ],
   "source": [
    "#veri setinde  bulunan kelime verilerek benzeer kelime bulunur.\n",
    "model.wv.most_similar('ankara')\n"
   ]
  },
  {
   "cell_type": "code",
   "execution_count": 8,
   "metadata": {},
   "outputs": [],
   "source": [
    "model.save('word2vec.model')"
   ]
  },
  {
   "cell_type": "code",
   "execution_count": 9,
   "metadata": {},
   "outputs": [],
   "source": [
    "model = Word2Vec.load('word2vec.model')"
   ]
  },
  {
   "cell_type": "code",
   "execution_count": 10,
   "metadata": {},
   "outputs": [],
   "source": [
    "def tsneplot(model, word):\n",
    "    word_vectors = np.empty((0,100))\n",
    "    word_labels = [word]\n",
    "    \n",
    "    close_words = model.wv.most_similar(word)\n",
    "    \n",
    "    word_vectors=np.append(word_vectors, np.array([model.wv[word]]), axis=0)\n",
    "    \n",
    "    for w, _ in close_words:\n",
    "        word_labels.append(w)\n",
    "        word_vectors=np.append(word_vectors, np.array([model.wv[word]]), axis=0)\n",
    "        \n",
    "    tsne = TSNE(random_state=0)\n",
    "    Y = tsne.fit_transform(word_vectors)\n",
    "\n",
    "    \n",
    "    x_coorda = Y[:, 0]\n",
    "    y_coorda = Y[:, 1]\n",
    "    \n",
    "    plt.scatter(x_coorda, y_coorda)\n",
    "    \n",
    "    for label, x, y in zip(word_labels, x_coorda,y_coorda):\n",
    "        plt.annotate(label, xy=(x, y), xytext=(5,-2), textcoords='offset points')\n",
    "    plt.show()  "
   ]
  },
  {
   "cell_type": "code",
   "execution_count": 11,
   "metadata": {},
   "outputs": [
    {
     "data": {
      "image/png": "[encoded data removed]",
      "text/plain": [
       "<Figure size 432x288 with 1 Axes>"
      ]
     },
     "metadata": {},
     "output_type": "display_data"
    }
   ],
   "source": [
    "tsneplot(model, 'ağustos')"
   ]
  },
  {
   "cell_type": "markdown",
   "metadata": {},
   "source": [
    "# CBOW"
   ]
  },
  {
   "cell_type": "code",
   "execution_count": 12,
   "metadata": {},
   "outputs": [],
   "source": [
    "from gensim.scripts.glove2word2vec import glove2word2vec\n",
    "from gensim.models import KeyedVectors"
   ]
  },
  {
   "cell_type": "code",
   "execution_count": 13,
   "metadata": {},
   "outputs": [
    {
     "data": {
      "text/plain": [
       "(400000, 100)"
      ]
     },
     "execution_count": 13,
     "metadata": {},
     "output_type": "execute_result"
    }
   ],
   "source": [
    "glove_input = 'glove.6B.100d.txt'\n",
    "word2vec_output = 'glove.6B.100d.word2vec'\n",
    "glove2word2vec(glove_input,word2vec_output)"
   ]
  },
  {
   "cell_type": "code",
   "execution_count": 14,
   "metadata": {},
   "outputs": [],
   "source": [
    "model = KeyedVectors.load_word2vec_format(word2vec_output, binary=False)"
   ]
  },
  {
   "cell_type": "code",
   "execution_count": 15,
   "metadata": {},
   "outputs": [
    {
     "data": {
      "text/plain": [
       "array([ 0.40378  ,  0.019734 , -0.15499  , -0.26948  ,  0.33938  ,\n",
       "        0.46476  , -0.53141  ,  0.094519 ,  0.45399  ,  1.3385   ,\n",
       "        0.18271  , -0.3465   ,  0.28323  ,  0.70829  , -0.75002  ,\n",
       "        0.016359 , -0.64514  , -0.54882  , -0.75309  , -0.21617  ,\n",
       "        0.13678  , -0.25198  , -0.037552 ,  0.35938  , -0.33532  ,\n",
       "       -0.78733  ,  0.10907  , -0.13902  ,  0.53454  ,  0.58805  ,\n",
       "       -1.1348   , -0.14574  ,  0.20244  ,  0.81909  , -0.27482  ,\n",
       "        0.14045  ,  0.68814  ,  0.70236  , -0.34211  , -0.62128  ,\n",
       "       -0.10601  , -0.62413  ,  0.30536  , -0.44325  ,  0.64016  ,\n",
       "        0.0020673,  0.88252  ,  0.050356 , -0.35739  ,  0.54686  ,\n",
       "        0.11974  , -0.12593  ,  0.74211  ,  0.65482  , -1.4018   ,\n",
       "       -1.1218   , -0.21188  ,  0.35338  ,  0.53459  ,  0.20205  ,\n",
       "       -0.86132  ,  0.82773  , -0.10065  , -0.19766  , -0.85631  ,\n",
       "        0.27891  , -1.3381   ,  0.19368  , -0.70602  ,  0.067972 ,\n",
       "       -0.80953  , -0.65974  ,  0.50856  , -0.020009 , -0.7665   ,\n",
       "       -0.21865  ,  0.11584  , -0.23323  , -0.73037  ,  0.25433  ,\n",
       "        0.51655  , -0.031959 , -0.34603  ,  0.016619 ,  0.36089  ,\n",
       "       -0.25636  , -0.86198  , -0.16575  , -0.084256 ,  0.21918  ,\n",
       "        0.7003   ,  0.14982  , -0.083508 , -0.16968  , -0.5801   ,\n",
       "        0.96829  ,  0.40106  ,  0.16945  ,  0.74681  ,  0.26952  ],\n",
       "      dtype=float32)"
      ]
     },
     "execution_count": 15,
     "metadata": {},
     "output_type": "execute_result"
    }
   ],
   "source": [
    "model['istanbul']"
   ]
  },
  {
   "cell_type": "code",
   "execution_count": 16,
   "metadata": {},
   "outputs": [
    {
     "data": {
      "text/plain": [
       "[('kangaroos', 0.6124688982963562),\n",
       " ('squirrel', 0.5469585657119751),\n",
       " ('rat', 0.5455619096755981),\n",
       " ('mule', 0.5324220061302185),\n",
       " ('elephant', 0.5309096574783325),\n",
       " ('snake', 0.5248682498931885),\n",
       " ('monkey', 0.521859884262085),\n",
       " ('parrot', 0.5193796157836914),\n",
       " ('sheep', 0.5146180391311646),\n",
       " ('shark', 0.5082205533981323)]"
      ]
     },
     "execution_count": 16,
     "metadata": {},
     "output_type": "execute_result"
    }
   ],
   "source": [
    "model.most_similar('kangaroo')"
   ]
  },
  {
   "cell_type": "markdown",
   "metadata": {},
   "source": [
    "king - man + woman = queen"
   ]
  },
  {
   "cell_type": "code",
   "execution_count": 17,
   "metadata": {},
   "outputs": [
    {
     "data": {
      "text/plain": [
       "[('queen', 0.7698541283607483)]"
      ]
     },
     "execution_count": 17,
     "metadata": {},
     "output_type": "execute_result"
    }
   ],
   "source": [
    "model.most_similar(positive=['woman','king'], negative=['man'], topn=1)"
   ]
  }
 ],
 "metadata": {
  "kernelspec": {
   "display_name": "Python 3",
   "language": "python",
   "name": "python3"
  },
  "language_info": {
   "codemirror_mode": {
    "name": "ipython",
    "version": 3
   },
   "file_extension": ".py",
   "mimetype": "text/x-python",
   "name": "python",
   "nbconvert_exporter": "python",
   "pygments_lexer": "ipython3",
   "version": "3.6.8"
  }
 },
 "nbformat": 4,
 "nbformat_minor": 2
}
